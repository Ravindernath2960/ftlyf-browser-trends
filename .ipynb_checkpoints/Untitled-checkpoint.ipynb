{
 "cells": [
  {
   "cell_type": "code",
   "execution_count": 617,
   "id": "d73d34a9",
   "metadata": {},
   "outputs": [
    {
     "name": "stdout",
     "output_type": "stream",
     "text": [
      "['Solarize_Light2', '_classic_test_patch', '_mpl-gallery', '_mpl-gallery-nogrid', 'bmh', 'classic', 'dark_background', 'fast', 'fivethirtyeight', 'ggplot', 'grayscale', 'seaborn', 'seaborn-bright', 'seaborn-colorblind', 'seaborn-dark', 'seaborn-dark-palette', 'seaborn-darkgrid', 'seaborn-deep', 'seaborn-muted', 'seaborn-notebook', 'seaborn-paper', 'seaborn-pastel', 'seaborn-poster', 'seaborn-talk', 'seaborn-ticks', 'seaborn-white', 'seaborn-whitegrid', 'tableau-colorblind10']\n"
     ]
    }
   ],
   "source": [
    "import pandas as pd \n",
    "import matplotlib.pyplot as plt\n",
    "import seaborn as sns\n",
    "from matplotlib import style\n",
    "print(plt.style.available)\n",
    "plt.style.use('seaborn')"
   ]
  },
  {
   "cell_type": "code",
   "execution_count": 597,
   "id": "6719086b",
   "metadata": {},
   "outputs": [],
   "source": [
    "data = pd.read_excel(\"Fyttlyf_Data_For_Questions.xlsx\")"
   ]
  },
  {
   "cell_type": "code",
   "execution_count": 598,
   "id": "600438d8",
   "metadata": {},
   "outputs": [],
   "source": [
    "data['Date_TS'] = pd.to_datetime(data['Date_TS'])"
   ]
  },
  {
   "cell_type": "code",
   "execution_count": 599,
   "id": "3b0762d3",
   "metadata": {},
   "outputs": [
    {
     "name": "stdout",
     "output_type": "stream",
     "text": [
      "<class 'pandas.core.frame.DataFrame'>\n",
      "RangeIndex: 76936 entries, 0 to 76935\n",
      "Data columns (total 12 columns):\n",
      " #   Column            Non-Null Count  Dtype         \n",
      "---  ------            --------------  -----         \n",
      " 0   visitor_id        76936 non-null  object        \n",
      " 1   Session_IDs       76936 non-null  object        \n",
      " 2   Versions          76936 non-null  object        \n",
      " 3   Date              76936 non-null  datetime64[ns]\n",
      " 4   Date_TS           76936 non-null  datetime64[ns]\n",
      " 5   Event_Key         76936 non-null  float64       \n",
      " 6   Page_Name         76936 non-null  object        \n",
      " 7   Button_Names      76936 non-null  object        \n",
      " 8   reward            76936 non-null  float64       \n",
      " 9   Device            76936 non-null  object        \n",
      " 10  Operating system  76936 non-null  object        \n",
      " 11  browser           76936 non-null  object        \n",
      "dtypes: datetime64[ns](2), float64(2), object(8)\n",
      "memory usage: 7.0+ MB\n"
     ]
    }
   ],
   "source": [
    "data.info()"
   ]
  },
  {
   "cell_type": "code",
   "execution_count": 600,
   "id": "03a0e84b",
   "metadata": {},
   "outputs": [
    {
     "data": {
      "text/html": [
       "<div>\n",
       "<style scoped>\n",
       "    .dataframe tbody tr th:only-of-type {\n",
       "        vertical-align: middle;\n",
       "    }\n",
       "\n",
       "    .dataframe tbody tr th {\n",
       "        vertical-align: top;\n",
       "    }\n",
       "\n",
       "    .dataframe thead th {\n",
       "        text-align: right;\n",
       "    }\n",
       "</style>\n",
       "<table border=\"1\" class=\"dataframe\">\n",
       "  <thead>\n",
       "    <tr style=\"text-align: right;\">\n",
       "      <th></th>\n",
       "      <th>visitor_id</th>\n",
       "      <th>Session_IDs</th>\n",
       "      <th>Versions</th>\n",
       "      <th>Date</th>\n",
       "      <th>Date_TS</th>\n",
       "      <th>Event_Key</th>\n",
       "      <th>Page_Name</th>\n",
       "      <th>Button_Names</th>\n",
       "      <th>reward</th>\n",
       "      <th>Device</th>\n",
       "      <th>Operating system</th>\n",
       "      <th>browser</th>\n",
       "    </tr>\n",
       "  </thead>\n",
       "  <tbody>\n",
       "    <tr>\n",
       "      <th>0</th>\n",
       "      <td>4720794fd17200#2d16c0cfce0fff7206372</td>\n",
       "      <td>65614647217200#772726df65fe72ff0f72674</td>\n",
       "      <td>T2</td>\n",
       "      <td>2019-04-26</td>\n",
       "      <td>2019-04-26 11:07:54.577</td>\n",
       "      <td>33.0</td>\n",
       "      <td>product:business:::</td>\n",
       "      <td>HeaderMainMenu-Link-Business</td>\n",
       "      <td>0.0</td>\n",
       "      <td>Desktop</td>\n",
       "      <td>WINDOWS</td>\n",
       "      <td>INTERNET EXPLORER</td>\n",
       "    </tr>\n",
       "    <tr>\n",
       "      <th>1</th>\n",
       "      <td>4720794fd17200#2d16c0cfce0fff7206372</td>\n",
       "      <td>65614647217200#772726df65fe72ff0f72674</td>\n",
       "      <td>T2</td>\n",
       "      <td>2019-04-26</td>\n",
       "      <td>2019-04-26 11:07:52.755</td>\n",
       "      <td>11.0</td>\n",
       "      <td>product:business:::</td>\n",
       "      <td>HeaderMainMenu-Link-Business</td>\n",
       "      <td>0.0</td>\n",
       "      <td>Desktop</td>\n",
       "      <td>WINDOWS</td>\n",
       "      <td>INTERNET EXPLORER</td>\n",
       "    </tr>\n",
       "    <tr>\n",
       "      <th>2</th>\n",
       "      <td>4720794fd17200#2d16c0cfce0fff7206372</td>\n",
       "      <td>65614647217200#772726df65fe72ff0f72674</td>\n",
       "      <td>T2</td>\n",
       "      <td>2019-04-26</td>\n",
       "      <td>2019-04-26 10:21:28.027</td>\n",
       "      <td>33.0</td>\n",
       "      <td>product:business:::</td>\n",
       "      <td>HeaderMainMenu0-Cta-Log In</td>\n",
       "      <td>0.0</td>\n",
       "      <td>Desktop</td>\n",
       "      <td>WINDOWS</td>\n",
       "      <td>INTERNET EXPLORER</td>\n",
       "    </tr>\n",
       "    <tr>\n",
       "      <th>3</th>\n",
       "      <td>4720794fd17200#2d16c0cfce0fff7206372</td>\n",
       "      <td>65614647217200#772726df65fe72ff0f72674</td>\n",
       "      <td>T2</td>\n",
       "      <td>2019-04-26</td>\n",
       "      <td>2019-04-26 11:08:33.552</td>\n",
       "      <td>33.0</td>\n",
       "      <td>product:business:::</td>\n",
       "      <td>HeaderMainMenu-Link-Help</td>\n",
       "      <td>0.0</td>\n",
       "      <td>Desktop</td>\n",
       "      <td>WINDOWS</td>\n",
       "      <td>INTERNET EXPLORER</td>\n",
       "    </tr>\n",
       "    <tr>\n",
       "      <th>4</th>\n",
       "      <td>4720794fd17200#2d16c0cfce0fff7206372</td>\n",
       "      <td>65614647217200#772726df65fe72ff0f72674</td>\n",
       "      <td>T2</td>\n",
       "      <td>2019-04-26</td>\n",
       "      <td>2019-04-26 11:08:12.789</td>\n",
       "      <td>33.0</td>\n",
       "      <td>product:business:::</td>\n",
       "      <td>SMB grid greyCard-Tertiary-More about business...</td>\n",
       "      <td>0.0</td>\n",
       "      <td>Desktop</td>\n",
       "      <td>WINDOWS</td>\n",
       "      <td>INTERNET EXPLORER</td>\n",
       "    </tr>\n",
       "    <tr>\n",
       "      <th>...</th>\n",
       "      <td>...</td>\n",
       "      <td>...</td>\n",
       "      <td>...</td>\n",
       "      <td>...</td>\n",
       "      <td>...</td>\n",
       "      <td>...</td>\n",
       "      <td>...</td>\n",
       "      <td>...</td>\n",
       "      <td>...</td>\n",
       "      <td>...</td>\n",
       "      <td>...</td>\n",
       "      <td>...</td>\n",
       "    </tr>\n",
       "    <tr>\n",
       "      <th>76931</th>\n",
       "      <td>72dbf51ed17200#d049b3d7e4bfd95727261</td>\n",
       "      <td>72dbf51ed17200#d049b3d7e4bfd95727260</td>\n",
       "      <td>T2</td>\n",
       "      <td>2019-05-03</td>\n",
       "      <td>2019-05-04 06:26:13.977</td>\n",
       "      <td>11.0</td>\n",
       "      <td>product:business:::</td>\n",
       "      <td>#</td>\n",
       "      <td>0.0</td>\n",
       "      <td>Mobile</td>\n",
       "      <td>ANDROID</td>\n",
       "      <td>ANDROID BROWSER</td>\n",
       "    </tr>\n",
       "    <tr>\n",
       "      <th>76932</th>\n",
       "      <td>72dbfeef017200#d006272601cffd723e72672</td>\n",
       "      <td>72dbfeef017200#d006272601cffd723e7267</td>\n",
       "      <td>T2</td>\n",
       "      <td>2019-05-03</td>\n",
       "      <td>2019-05-04 06:26:54.063</td>\n",
       "      <td>11.0</td>\n",
       "      <td>product:business:::</td>\n",
       "      <td>#</td>\n",
       "      <td>0.0</td>\n",
       "      <td>Mobile</td>\n",
       "      <td>ANDROID</td>\n",
       "      <td>ANDROID BROWSER</td>\n",
       "    </tr>\n",
       "    <tr>\n",
       "      <th>76933</th>\n",
       "      <td>72dc29b77217200#d0075cde7292fd727271#3</td>\n",
       "      <td>72dc29b77217200#d0075cde7292fd727271#2</td>\n",
       "      <td>T1</td>\n",
       "      <td>2019-05-03</td>\n",
       "      <td>2019-05-04 06:29:47.978</td>\n",
       "      <td>11.0</td>\n",
       "      <td>product:business:::</td>\n",
       "      <td>#</td>\n",
       "      <td>0.0</td>\n",
       "      <td>Mobile</td>\n",
       "      <td>ANDROID</td>\n",
       "      <td>ANDROID BROWSER</td>\n",
       "    </tr>\n",
       "    <tr>\n",
       "      <th>76934</th>\n",
       "      <td>72dc2b03517200#d0472b129343fd72472fe3</td>\n",
       "      <td>72dc2b03517200#d0472b129343fd72472fe2</td>\n",
       "      <td>T3</td>\n",
       "      <td>2019-05-03</td>\n",
       "      <td>2019-05-04 06:29:53.771</td>\n",
       "      <td>11.0</td>\n",
       "      <td>product:business:::</td>\n",
       "      <td>#</td>\n",
       "      <td>0.0</td>\n",
       "      <td>Mobile</td>\n",
       "      <td>ANDROID</td>\n",
       "      <td>ANDROID BROWSER</td>\n",
       "    </tr>\n",
       "    <tr>\n",
       "      <th>76935</th>\n",
       "      <td>72dc493cc17200#d00596fb0d1fd723c#3#</td>\n",
       "      <td>72dc493cc17200#d00596fb0d1fd723c#39</td>\n",
       "      <td>T1</td>\n",
       "      <td>2019-05-03</td>\n",
       "      <td>2019-05-04 06:31:57.735</td>\n",
       "      <td>11.0</td>\n",
       "      <td>product:business:::</td>\n",
       "      <td>#</td>\n",
       "      <td>0.0</td>\n",
       "      <td>Mobile</td>\n",
       "      <td>ANDROID</td>\n",
       "      <td>ANDROID BROWSER</td>\n",
       "    </tr>\n",
       "  </tbody>\n",
       "</table>\n",
       "<p>76936 rows × 12 columns</p>\n",
       "</div>"
      ],
      "text/plain": [
       "                                   visitor_id  \\\n",
       "0        4720794fd17200#2d16c0cfce0fff7206372   \n",
       "1        4720794fd17200#2d16c0cfce0fff7206372   \n",
       "2        4720794fd17200#2d16c0cfce0fff7206372   \n",
       "3        4720794fd17200#2d16c0cfce0fff7206372   \n",
       "4        4720794fd17200#2d16c0cfce0fff7206372   \n",
       "...                                       ...   \n",
       "76931    72dbf51ed17200#d049b3d7e4bfd95727261   \n",
       "76932  72dbfeef017200#d006272601cffd723e72672   \n",
       "76933  72dc29b77217200#d0075cde7292fd727271#3   \n",
       "76934   72dc2b03517200#d0472b129343fd72472fe3   \n",
       "76935     72dc493cc17200#d00596fb0d1fd723c#3#   \n",
       "\n",
       "                                  Session_IDs Versions       Date  \\\n",
       "0      65614647217200#772726df65fe72ff0f72674       T2 2019-04-26   \n",
       "1      65614647217200#772726df65fe72ff0f72674       T2 2019-04-26   \n",
       "2      65614647217200#772726df65fe72ff0f72674       T2 2019-04-26   \n",
       "3      65614647217200#772726df65fe72ff0f72674       T2 2019-04-26   \n",
       "4      65614647217200#772726df65fe72ff0f72674       T2 2019-04-26   \n",
       "...                                       ...      ...        ...   \n",
       "76931    72dbf51ed17200#d049b3d7e4bfd95727260       T2 2019-05-03   \n",
       "76932   72dbfeef017200#d006272601cffd723e7267       T2 2019-05-03   \n",
       "76933  72dc29b77217200#d0075cde7292fd727271#2       T1 2019-05-03   \n",
       "76934   72dc2b03517200#d0472b129343fd72472fe2       T3 2019-05-03   \n",
       "76935     72dc493cc17200#d00596fb0d1fd723c#39       T1 2019-05-03   \n",
       "\n",
       "                      Date_TS  Event_Key            Page_Name  \\\n",
       "0     2019-04-26 11:07:54.577       33.0  product:business:::   \n",
       "1     2019-04-26 11:07:52.755       11.0  product:business:::   \n",
       "2     2019-04-26 10:21:28.027       33.0  product:business:::   \n",
       "3     2019-04-26 11:08:33.552       33.0  product:business:::   \n",
       "4     2019-04-26 11:08:12.789       33.0  product:business:::   \n",
       "...                       ...        ...                  ...   \n",
       "76931 2019-05-04 06:26:13.977       11.0  product:business:::   \n",
       "76932 2019-05-04 06:26:54.063       11.0  product:business:::   \n",
       "76933 2019-05-04 06:29:47.978       11.0  product:business:::   \n",
       "76934 2019-05-04 06:29:53.771       11.0  product:business:::   \n",
       "76935 2019-05-04 06:31:57.735       11.0  product:business:::   \n",
       "\n",
       "                                            Button_Names  reward   Device  \\\n",
       "0                           HeaderMainMenu-Link-Business     0.0  Desktop   \n",
       "1                           HeaderMainMenu-Link-Business     0.0  Desktop   \n",
       "2                             HeaderMainMenu0-Cta-Log In     0.0  Desktop   \n",
       "3                               HeaderMainMenu-Link-Help     0.0  Desktop   \n",
       "4      SMB grid greyCard-Tertiary-More about business...     0.0  Desktop   \n",
       "...                                                  ...     ...      ...   \n",
       "76931                                                  #     0.0   Mobile   \n",
       "76932                                                  #     0.0   Mobile   \n",
       "76933                                                  #     0.0   Mobile   \n",
       "76934                                                  #     0.0   Mobile   \n",
       "76935                                                  #     0.0   Mobile   \n",
       "\n",
       "      Operating system            browser  \n",
       "0              WINDOWS  INTERNET EXPLORER  \n",
       "1              WINDOWS  INTERNET EXPLORER  \n",
       "2              WINDOWS  INTERNET EXPLORER  \n",
       "3              WINDOWS  INTERNET EXPLORER  \n",
       "4              WINDOWS  INTERNET EXPLORER  \n",
       "...                ...                ...  \n",
       "76931          ANDROID    ANDROID BROWSER  \n",
       "76932          ANDROID    ANDROID BROWSER  \n",
       "76933          ANDROID    ANDROID BROWSER  \n",
       "76934          ANDROID    ANDROID BROWSER  \n",
       "76935          ANDROID    ANDROID BROWSER  \n",
       "\n",
       "[76936 rows x 12 columns]"
      ]
     },
     "execution_count": 600,
     "metadata": {},
     "output_type": "execute_result"
    }
   ],
   "source": [
    "data"
   ]
  },
  {
   "cell_type": "markdown",
   "id": "fb38f84e",
   "metadata": {},
   "source": [
    "#  Q1 \n"
   ]
  },
  {
   "cell_type": "code",
   "execution_count": 601,
   "id": "2eaa2b02",
   "metadata": {},
   "outputs": [],
   "source": [
    " min_max =  data['Date_TS'].agg(['min','max'])"
   ]
  },
  {
   "cell_type": "code",
   "execution_count": 602,
   "id": "c6a094c2",
   "metadata": {},
   "outputs": [
    {
     "data": {
      "text/plain": [
       "Timestamp('2019-05-04 06:31:57.735000')"
      ]
     },
     "execution_count": 602,
     "metadata": {},
     "output_type": "execute_result"
    }
   ],
   "source": [
    "days =  min_max['max'] - min_max['min']\n",
    "min_max['max']"
   ]
  },
  {
   "cell_type": "code",
   "execution_count": 603,
   "id": "4533d874",
   "metadata": {},
   "outputs": [
    {
     "data": {
      "text/plain": [
       "7"
      ]
     },
     "execution_count": 603,
     "metadata": {},
     "output_type": "execute_result"
    }
   ],
   "source": [
    "n = days.days\n",
    "n"
   ]
  },
  {
   "cell_type": "code",
   "execution_count": 604,
   "id": "d459a899",
   "metadata": {},
   "outputs": [
    {
     "data": {
      "text/plain": [
       "76936"
      ]
     },
     "execution_count": 604,
     "metadata": {},
     "output_type": "execute_result"
    }
   ],
   "source": [
    "len(data['Date_TS'])"
   ]
  },
  {
   "cell_type": "code",
   "execution_count": 605,
   "id": "896e8889",
   "metadata": {},
   "outputs": [
    {
     "data": {
      "text/plain": [
       "0"
      ]
     },
     "execution_count": 605,
     "metadata": {},
     "output_type": "execute_result"
    }
   ],
   "source": [
    "data['Date_TS'].isna().sum()"
   ]
  },
  {
   "cell_type": "code",
   "execution_count": 606,
   "id": "391b8daf",
   "metadata": {},
   "outputs": [],
   "source": [
    "import datetime\n",
    "t_list = []\n",
    "for i in range (0,n*2+2):\n",
    "    \n",
    "    t_dict = {i+1 : [min_max[\"min\"] + datetime.timedelta(hours = i*12), min_max[\"min\"] + datetime.timedelta(hours = (i+1)*12)]}\n",
    "    t_list.append(t_dict)\n",
    "    "
   ]
  },
  {
   "cell_type": "code",
   "execution_count": 607,
   "id": "4936576f",
   "metadata": {},
   "outputs": [
    {
     "data": {
      "text/plain": [
       "[{1: [Timestamp('2019-04-26 09:49:13.443000'),\n",
       "   Timestamp('2019-04-26 21:49:13.443000')]},\n",
       " {2: [Timestamp('2019-04-26 21:49:13.443000'),\n",
       "   Timestamp('2019-04-27 09:49:13.443000')]},\n",
       " {3: [Timestamp('2019-04-27 09:49:13.443000'),\n",
       "   Timestamp('2019-04-27 21:49:13.443000')]},\n",
       " {4: [Timestamp('2019-04-27 21:49:13.443000'),\n",
       "   Timestamp('2019-04-28 09:49:13.443000')]},\n",
       " {5: [Timestamp('2019-04-28 09:49:13.443000'),\n",
       "   Timestamp('2019-04-28 21:49:13.443000')]},\n",
       " {6: [Timestamp('2019-04-28 21:49:13.443000'),\n",
       "   Timestamp('2019-04-29 09:49:13.443000')]},\n",
       " {7: [Timestamp('2019-04-29 09:49:13.443000'),\n",
       "   Timestamp('2019-04-29 21:49:13.443000')]},\n",
       " {8: [Timestamp('2019-04-29 21:49:13.443000'),\n",
       "   Timestamp('2019-04-30 09:49:13.443000')]},\n",
       " {9: [Timestamp('2019-04-30 09:49:13.443000'),\n",
       "   Timestamp('2019-04-30 21:49:13.443000')]},\n",
       " {10: [Timestamp('2019-04-30 21:49:13.443000'),\n",
       "   Timestamp('2019-05-01 09:49:13.443000')]},\n",
       " {11: [Timestamp('2019-05-01 09:49:13.443000'),\n",
       "   Timestamp('2019-05-01 21:49:13.443000')]},\n",
       " {12: [Timestamp('2019-05-01 21:49:13.443000'),\n",
       "   Timestamp('2019-05-02 09:49:13.443000')]},\n",
       " {13: [Timestamp('2019-05-02 09:49:13.443000'),\n",
       "   Timestamp('2019-05-02 21:49:13.443000')]},\n",
       " {14: [Timestamp('2019-05-02 21:49:13.443000'),\n",
       "   Timestamp('2019-05-03 09:49:13.443000')]},\n",
       " {15: [Timestamp('2019-05-03 09:49:13.443000'),\n",
       "   Timestamp('2019-05-03 21:49:13.443000')]},\n",
       " {16: [Timestamp('2019-05-03 21:49:13.443000'),\n",
       "   Timestamp('2019-05-04 09:49:13.443000')]}]"
      ]
     },
     "execution_count": 607,
     "metadata": {},
     "output_type": "execute_result"
    }
   ],
   "source": [
    "t_list"
   ]
  },
  {
   "cell_type": "code",
   "execution_count": 608,
   "id": "e1f3a473",
   "metadata": {
    "scrolled": true
   },
   "outputs": [
    {
     "data": {
      "text/plain": [
       "Timestamp('2019-05-04 06:31:57.735000')"
      ]
     },
     "execution_count": 608,
     "metadata": {},
     "output_type": "execute_result"
    }
   ],
   "source": [
    "data['Date_TS'][76935]"
   ]
  },
  {
   "cell_type": "code",
   "execution_count": 609,
   "id": "ad3fc2c3",
   "metadata": {},
   "outputs": [],
   "source": [
    "batch = []\n",
    "\n",
    "for l in range (0,len(data['Date_TS'])):\n",
    "    time = data['Date_TS'][l]\n",
    "    j = 1\n",
    "    for i in t_list:\n",
    "        ti = i[j]\n",
    "        if (time >= ti[0]) &  (time <= ti[1]):\n",
    "            batch.append(j)\n",
    "        j+=1\n"
   ]
  },
  {
   "cell_type": "code",
   "execution_count": null,
   "id": "478694fd",
   "metadata": {},
   "outputs": [],
   "source": []
  },
  {
   "cell_type": "code",
   "execution_count": 610,
   "id": "09415c42",
   "metadata": {},
   "outputs": [],
   "source": [
    "# t_list[0][1][0]\n",
    "# #ti[1]\n",
    "# len(data['Date_TS'])"
   ]
  },
  {
   "cell_type": "code",
   "execution_count": 611,
   "id": "43780290",
   "metadata": {},
   "outputs": [],
   "source": [
    "# tie = data['Date_TS'][5558]\n",
    "# j = 1\n",
    "# for i in t_list:\n",
    "#     ti = i[j]\n",
    "#     if (tie > ti[0]) &  (tie < ti[1]):\n",
    "#         print(j)   \n",
    "#     j+=1\n",
    "# i was cross checking is this method works\n",
    "# batch[76935]\n",
    "# len(batch)"
   ]
  },
  {
   "cell_type": "code",
   "execution_count": 612,
   "id": "68d5291f",
   "metadata": {},
   "outputs": [],
   "source": [
    "data['Batch'] = batch"
   ]
  },
  {
   "cell_type": "markdown",
   "id": "4158651b",
   "metadata": {},
   "source": [
    "# Q1 solved"
   ]
  },
  {
   "cell_type": "code",
   "execution_count": 613,
   "id": "6cff1bef",
   "metadata": {},
   "outputs": [
    {
     "data": {
      "text/html": [
       "<div>\n",
       "<style scoped>\n",
       "    .dataframe tbody tr th:only-of-type {\n",
       "        vertical-align: middle;\n",
       "    }\n",
       "\n",
       "    .dataframe tbody tr th {\n",
       "        vertical-align: top;\n",
       "    }\n",
       "\n",
       "    .dataframe thead th {\n",
       "        text-align: right;\n",
       "    }\n",
       "</style>\n",
       "<table border=\"1\" class=\"dataframe\">\n",
       "  <thead>\n",
       "    <tr style=\"text-align: right;\">\n",
       "      <th></th>\n",
       "      <th>visitor_id</th>\n",
       "      <th>Session_IDs</th>\n",
       "      <th>Versions</th>\n",
       "      <th>Date</th>\n",
       "      <th>Date_TS</th>\n",
       "      <th>Event_Key</th>\n",
       "      <th>Page_Name</th>\n",
       "      <th>Button_Names</th>\n",
       "      <th>reward</th>\n",
       "      <th>Device</th>\n",
       "      <th>Operating system</th>\n",
       "      <th>browser</th>\n",
       "      <th>Batch</th>\n",
       "    </tr>\n",
       "  </thead>\n",
       "  <tbody>\n",
       "    <tr>\n",
       "      <th>0</th>\n",
       "      <td>4720794fd17200#2d16c0cfce0fff7206372</td>\n",
       "      <td>65614647217200#772726df65fe72ff0f72674</td>\n",
       "      <td>T2</td>\n",
       "      <td>2019-04-26</td>\n",
       "      <td>2019-04-26 11:07:54.577</td>\n",
       "      <td>33.0</td>\n",
       "      <td>product:business:::</td>\n",
       "      <td>HeaderMainMenu-Link-Business</td>\n",
       "      <td>0.0</td>\n",
       "      <td>Desktop</td>\n",
       "      <td>WINDOWS</td>\n",
       "      <td>INTERNET EXPLORER</td>\n",
       "      <td>1</td>\n",
       "    </tr>\n",
       "    <tr>\n",
       "      <th>1</th>\n",
       "      <td>4720794fd17200#2d16c0cfce0fff7206372</td>\n",
       "      <td>65614647217200#772726df65fe72ff0f72674</td>\n",
       "      <td>T2</td>\n",
       "      <td>2019-04-26</td>\n",
       "      <td>2019-04-26 11:07:52.755</td>\n",
       "      <td>11.0</td>\n",
       "      <td>product:business:::</td>\n",
       "      <td>HeaderMainMenu-Link-Business</td>\n",
       "      <td>0.0</td>\n",
       "      <td>Desktop</td>\n",
       "      <td>WINDOWS</td>\n",
       "      <td>INTERNET EXPLORER</td>\n",
       "      <td>1</td>\n",
       "    </tr>\n",
       "    <tr>\n",
       "      <th>2</th>\n",
       "      <td>4720794fd17200#2d16c0cfce0fff7206372</td>\n",
       "      <td>65614647217200#772726df65fe72ff0f72674</td>\n",
       "      <td>T2</td>\n",
       "      <td>2019-04-26</td>\n",
       "      <td>2019-04-26 10:21:28.027</td>\n",
       "      <td>33.0</td>\n",
       "      <td>product:business:::</td>\n",
       "      <td>HeaderMainMenu0-Cta-Log In</td>\n",
       "      <td>0.0</td>\n",
       "      <td>Desktop</td>\n",
       "      <td>WINDOWS</td>\n",
       "      <td>INTERNET EXPLORER</td>\n",
       "      <td>1</td>\n",
       "    </tr>\n",
       "    <tr>\n",
       "      <th>3</th>\n",
       "      <td>4720794fd17200#2d16c0cfce0fff7206372</td>\n",
       "      <td>65614647217200#772726df65fe72ff0f72674</td>\n",
       "      <td>T2</td>\n",
       "      <td>2019-04-26</td>\n",
       "      <td>2019-04-26 11:08:33.552</td>\n",
       "      <td>33.0</td>\n",
       "      <td>product:business:::</td>\n",
       "      <td>HeaderMainMenu-Link-Help</td>\n",
       "      <td>0.0</td>\n",
       "      <td>Desktop</td>\n",
       "      <td>WINDOWS</td>\n",
       "      <td>INTERNET EXPLORER</td>\n",
       "      <td>1</td>\n",
       "    </tr>\n",
       "    <tr>\n",
       "      <th>4</th>\n",
       "      <td>4720794fd17200#2d16c0cfce0fff7206372</td>\n",
       "      <td>65614647217200#772726df65fe72ff0f72674</td>\n",
       "      <td>T2</td>\n",
       "      <td>2019-04-26</td>\n",
       "      <td>2019-04-26 11:08:12.789</td>\n",
       "      <td>33.0</td>\n",
       "      <td>product:business:::</td>\n",
       "      <td>SMB grid greyCard-Tertiary-More about business...</td>\n",
       "      <td>0.0</td>\n",
       "      <td>Desktop</td>\n",
       "      <td>WINDOWS</td>\n",
       "      <td>INTERNET EXPLORER</td>\n",
       "      <td>1</td>\n",
       "    </tr>\n",
       "    <tr>\n",
       "      <th>...</th>\n",
       "      <td>...</td>\n",
       "      <td>...</td>\n",
       "      <td>...</td>\n",
       "      <td>...</td>\n",
       "      <td>...</td>\n",
       "      <td>...</td>\n",
       "      <td>...</td>\n",
       "      <td>...</td>\n",
       "      <td>...</td>\n",
       "      <td>...</td>\n",
       "      <td>...</td>\n",
       "      <td>...</td>\n",
       "      <td>...</td>\n",
       "    </tr>\n",
       "    <tr>\n",
       "      <th>76931</th>\n",
       "      <td>72dbf51ed17200#d049b3d7e4bfd95727261</td>\n",
       "      <td>72dbf51ed17200#d049b3d7e4bfd95727260</td>\n",
       "      <td>T2</td>\n",
       "      <td>2019-05-03</td>\n",
       "      <td>2019-05-04 06:26:13.977</td>\n",
       "      <td>11.0</td>\n",
       "      <td>product:business:::</td>\n",
       "      <td>#</td>\n",
       "      <td>0.0</td>\n",
       "      <td>Mobile</td>\n",
       "      <td>ANDROID</td>\n",
       "      <td>ANDROID BROWSER</td>\n",
       "      <td>16</td>\n",
       "    </tr>\n",
       "    <tr>\n",
       "      <th>76932</th>\n",
       "      <td>72dbfeef017200#d006272601cffd723e72672</td>\n",
       "      <td>72dbfeef017200#d006272601cffd723e7267</td>\n",
       "      <td>T2</td>\n",
       "      <td>2019-05-03</td>\n",
       "      <td>2019-05-04 06:26:54.063</td>\n",
       "      <td>11.0</td>\n",
       "      <td>product:business:::</td>\n",
       "      <td>#</td>\n",
       "      <td>0.0</td>\n",
       "      <td>Mobile</td>\n",
       "      <td>ANDROID</td>\n",
       "      <td>ANDROID BROWSER</td>\n",
       "      <td>16</td>\n",
       "    </tr>\n",
       "    <tr>\n",
       "      <th>76933</th>\n",
       "      <td>72dc29b77217200#d0075cde7292fd727271#3</td>\n",
       "      <td>72dc29b77217200#d0075cde7292fd727271#2</td>\n",
       "      <td>T1</td>\n",
       "      <td>2019-05-03</td>\n",
       "      <td>2019-05-04 06:29:47.978</td>\n",
       "      <td>11.0</td>\n",
       "      <td>product:business:::</td>\n",
       "      <td>#</td>\n",
       "      <td>0.0</td>\n",
       "      <td>Mobile</td>\n",
       "      <td>ANDROID</td>\n",
       "      <td>ANDROID BROWSER</td>\n",
       "      <td>16</td>\n",
       "    </tr>\n",
       "    <tr>\n",
       "      <th>76934</th>\n",
       "      <td>72dc2b03517200#d0472b129343fd72472fe3</td>\n",
       "      <td>72dc2b03517200#d0472b129343fd72472fe2</td>\n",
       "      <td>T3</td>\n",
       "      <td>2019-05-03</td>\n",
       "      <td>2019-05-04 06:29:53.771</td>\n",
       "      <td>11.0</td>\n",
       "      <td>product:business:::</td>\n",
       "      <td>#</td>\n",
       "      <td>0.0</td>\n",
       "      <td>Mobile</td>\n",
       "      <td>ANDROID</td>\n",
       "      <td>ANDROID BROWSER</td>\n",
       "      <td>16</td>\n",
       "    </tr>\n",
       "    <tr>\n",
       "      <th>76935</th>\n",
       "      <td>72dc493cc17200#d00596fb0d1fd723c#3#</td>\n",
       "      <td>72dc493cc17200#d00596fb0d1fd723c#39</td>\n",
       "      <td>T1</td>\n",
       "      <td>2019-05-03</td>\n",
       "      <td>2019-05-04 06:31:57.735</td>\n",
       "      <td>11.0</td>\n",
       "      <td>product:business:::</td>\n",
       "      <td>#</td>\n",
       "      <td>0.0</td>\n",
       "      <td>Mobile</td>\n",
       "      <td>ANDROID</td>\n",
       "      <td>ANDROID BROWSER</td>\n",
       "      <td>16</td>\n",
       "    </tr>\n",
       "  </tbody>\n",
       "</table>\n",
       "<p>76936 rows × 13 columns</p>\n",
       "</div>"
      ],
      "text/plain": [
       "                                   visitor_id  \\\n",
       "0        4720794fd17200#2d16c0cfce0fff7206372   \n",
       "1        4720794fd17200#2d16c0cfce0fff7206372   \n",
       "2        4720794fd17200#2d16c0cfce0fff7206372   \n",
       "3        4720794fd17200#2d16c0cfce0fff7206372   \n",
       "4        4720794fd17200#2d16c0cfce0fff7206372   \n",
       "...                                       ...   \n",
       "76931    72dbf51ed17200#d049b3d7e4bfd95727261   \n",
       "76932  72dbfeef017200#d006272601cffd723e72672   \n",
       "76933  72dc29b77217200#d0075cde7292fd727271#3   \n",
       "76934   72dc2b03517200#d0472b129343fd72472fe3   \n",
       "76935     72dc493cc17200#d00596fb0d1fd723c#3#   \n",
       "\n",
       "                                  Session_IDs Versions       Date  \\\n",
       "0      65614647217200#772726df65fe72ff0f72674       T2 2019-04-26   \n",
       "1      65614647217200#772726df65fe72ff0f72674       T2 2019-04-26   \n",
       "2      65614647217200#772726df65fe72ff0f72674       T2 2019-04-26   \n",
       "3      65614647217200#772726df65fe72ff0f72674       T2 2019-04-26   \n",
       "4      65614647217200#772726df65fe72ff0f72674       T2 2019-04-26   \n",
       "...                                       ...      ...        ...   \n",
       "76931    72dbf51ed17200#d049b3d7e4bfd95727260       T2 2019-05-03   \n",
       "76932   72dbfeef017200#d006272601cffd723e7267       T2 2019-05-03   \n",
       "76933  72dc29b77217200#d0075cde7292fd727271#2       T1 2019-05-03   \n",
       "76934   72dc2b03517200#d0472b129343fd72472fe2       T3 2019-05-03   \n",
       "76935     72dc493cc17200#d00596fb0d1fd723c#39       T1 2019-05-03   \n",
       "\n",
       "                      Date_TS  Event_Key            Page_Name  \\\n",
       "0     2019-04-26 11:07:54.577       33.0  product:business:::   \n",
       "1     2019-04-26 11:07:52.755       11.0  product:business:::   \n",
       "2     2019-04-26 10:21:28.027       33.0  product:business:::   \n",
       "3     2019-04-26 11:08:33.552       33.0  product:business:::   \n",
       "4     2019-04-26 11:08:12.789       33.0  product:business:::   \n",
       "...                       ...        ...                  ...   \n",
       "76931 2019-05-04 06:26:13.977       11.0  product:business:::   \n",
       "76932 2019-05-04 06:26:54.063       11.0  product:business:::   \n",
       "76933 2019-05-04 06:29:47.978       11.0  product:business:::   \n",
       "76934 2019-05-04 06:29:53.771       11.0  product:business:::   \n",
       "76935 2019-05-04 06:31:57.735       11.0  product:business:::   \n",
       "\n",
       "                                            Button_Names  reward   Device  \\\n",
       "0                           HeaderMainMenu-Link-Business     0.0  Desktop   \n",
       "1                           HeaderMainMenu-Link-Business     0.0  Desktop   \n",
       "2                             HeaderMainMenu0-Cta-Log In     0.0  Desktop   \n",
       "3                               HeaderMainMenu-Link-Help     0.0  Desktop   \n",
       "4      SMB grid greyCard-Tertiary-More about business...     0.0  Desktop   \n",
       "...                                                  ...     ...      ...   \n",
       "76931                                                  #     0.0   Mobile   \n",
       "76932                                                  #     0.0   Mobile   \n",
       "76933                                                  #     0.0   Mobile   \n",
       "76934                                                  #     0.0   Mobile   \n",
       "76935                                                  #     0.0   Mobile   \n",
       "\n",
       "      Operating system            browser  Batch  \n",
       "0              WINDOWS  INTERNET EXPLORER      1  \n",
       "1              WINDOWS  INTERNET EXPLORER      1  \n",
       "2              WINDOWS  INTERNET EXPLORER      1  \n",
       "3              WINDOWS  INTERNET EXPLORER      1  \n",
       "4              WINDOWS  INTERNET EXPLORER      1  \n",
       "...                ...                ...    ...  \n",
       "76931          ANDROID    ANDROID BROWSER     16  \n",
       "76932          ANDROID    ANDROID BROWSER     16  \n",
       "76933          ANDROID    ANDROID BROWSER     16  \n",
       "76934          ANDROID    ANDROID BROWSER     16  \n",
       "76935          ANDROID    ANDROID BROWSER     16  \n",
       "\n",
       "[76936 rows x 13 columns]"
      ]
     },
     "execution_count": 613,
     "metadata": {},
     "output_type": "execute_result"
    }
   ],
   "source": [
    "data"
   ]
  },
  {
   "cell_type": "markdown",
   "id": "e7c2ccb8",
   "metadata": {},
   "source": [
    "#   Q2 REWARD RATIO"
   ]
  },
  {
   "cell_type": "code",
   "execution_count": 614,
   "id": "882dea62",
   "metadata": {
    "scrolled": false
   },
   "outputs": [
    {
     "data": {
      "text/html": [
       "<div>\n",
       "<style scoped>\n",
       "    .dataframe tbody tr th:only-of-type {\n",
       "        vertical-align: middle;\n",
       "    }\n",
       "\n",
       "    .dataframe tbody tr th {\n",
       "        vertical-align: top;\n",
       "    }\n",
       "\n",
       "    .dataframe thead th {\n",
       "        text-align: right;\n",
       "    }\n",
       "</style>\n",
       "<table border=\"1\" class=\"dataframe\">\n",
       "  <thead>\n",
       "    <tr style=\"text-align: right;\">\n",
       "      <th></th>\n",
       "      <th>visitor_id</th>\n",
       "      <th>Session_IDs</th>\n",
       "      <th>Versions</th>\n",
       "      <th>Date</th>\n",
       "      <th>Date_TS</th>\n",
       "      <th>Event_Key</th>\n",
       "      <th>Page_Name</th>\n",
       "      <th>Button_Names</th>\n",
       "      <th>reward</th>\n",
       "      <th>Device</th>\n",
       "      <th>Operating system</th>\n",
       "      <th>browser</th>\n",
       "      <th>Batch</th>\n",
       "    </tr>\n",
       "  </thead>\n",
       "  <tbody>\n",
       "    <tr>\n",
       "      <th>0</th>\n",
       "      <td>4720794fd17200#2d16c0cfce0fff7206372</td>\n",
       "      <td>65614647217200#772726df65fe72ff0f72674</td>\n",
       "      <td>T2</td>\n",
       "      <td>2019-04-26</td>\n",
       "      <td>2019-04-26 11:07:54.577</td>\n",
       "      <td>33.0</td>\n",
       "      <td>product:business:::</td>\n",
       "      <td>HeaderMainMenu-Link-Business</td>\n",
       "      <td>0.0</td>\n",
       "      <td>Desktop</td>\n",
       "      <td>WINDOWS</td>\n",
       "      <td>INTERNET EXPLORER</td>\n",
       "      <td>1</td>\n",
       "    </tr>\n",
       "    <tr>\n",
       "      <th>1</th>\n",
       "      <td>4720794fd17200#2d16c0cfce0fff7206372</td>\n",
       "      <td>65614647217200#772726df65fe72ff0f72674</td>\n",
       "      <td>T2</td>\n",
       "      <td>2019-04-26</td>\n",
       "      <td>2019-04-26 11:07:52.755</td>\n",
       "      <td>11.0</td>\n",
       "      <td>product:business:::</td>\n",
       "      <td>HeaderMainMenu-Link-Business</td>\n",
       "      <td>0.0</td>\n",
       "      <td>Desktop</td>\n",
       "      <td>WINDOWS</td>\n",
       "      <td>INTERNET EXPLORER</td>\n",
       "      <td>1</td>\n",
       "    </tr>\n",
       "    <tr>\n",
       "      <th>2</th>\n",
       "      <td>4720794fd17200#2d16c0cfce0fff7206372</td>\n",
       "      <td>65614647217200#772726df65fe72ff0f72674</td>\n",
       "      <td>T2</td>\n",
       "      <td>2019-04-26</td>\n",
       "      <td>2019-04-26 10:21:28.027</td>\n",
       "      <td>33.0</td>\n",
       "      <td>product:business:::</td>\n",
       "      <td>HeaderMainMenu0-Cta-Log In</td>\n",
       "      <td>0.0</td>\n",
       "      <td>Desktop</td>\n",
       "      <td>WINDOWS</td>\n",
       "      <td>INTERNET EXPLORER</td>\n",
       "      <td>1</td>\n",
       "    </tr>\n",
       "    <tr>\n",
       "      <th>3</th>\n",
       "      <td>4720794fd17200#2d16c0cfce0fff7206372</td>\n",
       "      <td>65614647217200#772726df65fe72ff0f72674</td>\n",
       "      <td>T2</td>\n",
       "      <td>2019-04-26</td>\n",
       "      <td>2019-04-26 11:08:33.552</td>\n",
       "      <td>33.0</td>\n",
       "      <td>product:business:::</td>\n",
       "      <td>HeaderMainMenu-Link-Help</td>\n",
       "      <td>0.0</td>\n",
       "      <td>Desktop</td>\n",
       "      <td>WINDOWS</td>\n",
       "      <td>INTERNET EXPLORER</td>\n",
       "      <td>1</td>\n",
       "    </tr>\n",
       "    <tr>\n",
       "      <th>4</th>\n",
       "      <td>4720794fd17200#2d16c0cfce0fff7206372</td>\n",
       "      <td>65614647217200#772726df65fe72ff0f72674</td>\n",
       "      <td>T2</td>\n",
       "      <td>2019-04-26</td>\n",
       "      <td>2019-04-26 11:08:12.789</td>\n",
       "      <td>33.0</td>\n",
       "      <td>product:business:::</td>\n",
       "      <td>SMB grid greyCard-Tertiary-More about business...</td>\n",
       "      <td>0.0</td>\n",
       "      <td>Desktop</td>\n",
       "      <td>WINDOWS</td>\n",
       "      <td>INTERNET EXPLORER</td>\n",
       "      <td>1</td>\n",
       "    </tr>\n",
       "    <tr>\n",
       "      <th>...</th>\n",
       "      <td>...</td>\n",
       "      <td>...</td>\n",
       "      <td>...</td>\n",
       "      <td>...</td>\n",
       "      <td>...</td>\n",
       "      <td>...</td>\n",
       "      <td>...</td>\n",
       "      <td>...</td>\n",
       "      <td>...</td>\n",
       "      <td>...</td>\n",
       "      <td>...</td>\n",
       "      <td>...</td>\n",
       "      <td>...</td>\n",
       "    </tr>\n",
       "    <tr>\n",
       "      <th>76931</th>\n",
       "      <td>72dbf51ed17200#d049b3d7e4bfd95727261</td>\n",
       "      <td>72dbf51ed17200#d049b3d7e4bfd95727260</td>\n",
       "      <td>T2</td>\n",
       "      <td>2019-05-03</td>\n",
       "      <td>2019-05-04 06:26:13.977</td>\n",
       "      <td>11.0</td>\n",
       "      <td>product:business:::</td>\n",
       "      <td>#</td>\n",
       "      <td>0.0</td>\n",
       "      <td>Mobile</td>\n",
       "      <td>ANDROID</td>\n",
       "      <td>ANDROID BROWSER</td>\n",
       "      <td>16</td>\n",
       "    </tr>\n",
       "    <tr>\n",
       "      <th>76932</th>\n",
       "      <td>72dbfeef017200#d006272601cffd723e72672</td>\n",
       "      <td>72dbfeef017200#d006272601cffd723e7267</td>\n",
       "      <td>T2</td>\n",
       "      <td>2019-05-03</td>\n",
       "      <td>2019-05-04 06:26:54.063</td>\n",
       "      <td>11.0</td>\n",
       "      <td>product:business:::</td>\n",
       "      <td>#</td>\n",
       "      <td>0.0</td>\n",
       "      <td>Mobile</td>\n",
       "      <td>ANDROID</td>\n",
       "      <td>ANDROID BROWSER</td>\n",
       "      <td>16</td>\n",
       "    </tr>\n",
       "    <tr>\n",
       "      <th>76933</th>\n",
       "      <td>72dc29b77217200#d0075cde7292fd727271#3</td>\n",
       "      <td>72dc29b77217200#d0075cde7292fd727271#2</td>\n",
       "      <td>T1</td>\n",
       "      <td>2019-05-03</td>\n",
       "      <td>2019-05-04 06:29:47.978</td>\n",
       "      <td>11.0</td>\n",
       "      <td>product:business:::</td>\n",
       "      <td>#</td>\n",
       "      <td>0.0</td>\n",
       "      <td>Mobile</td>\n",
       "      <td>ANDROID</td>\n",
       "      <td>ANDROID BROWSER</td>\n",
       "      <td>16</td>\n",
       "    </tr>\n",
       "    <tr>\n",
       "      <th>76934</th>\n",
       "      <td>72dc2b03517200#d0472b129343fd72472fe3</td>\n",
       "      <td>72dc2b03517200#d0472b129343fd72472fe2</td>\n",
       "      <td>T3</td>\n",
       "      <td>2019-05-03</td>\n",
       "      <td>2019-05-04 06:29:53.771</td>\n",
       "      <td>11.0</td>\n",
       "      <td>product:business:::</td>\n",
       "      <td>#</td>\n",
       "      <td>0.0</td>\n",
       "      <td>Mobile</td>\n",
       "      <td>ANDROID</td>\n",
       "      <td>ANDROID BROWSER</td>\n",
       "      <td>16</td>\n",
       "    </tr>\n",
       "    <tr>\n",
       "      <th>76935</th>\n",
       "      <td>72dc493cc17200#d00596fb0d1fd723c#3#</td>\n",
       "      <td>72dc493cc17200#d00596fb0d1fd723c#39</td>\n",
       "      <td>T1</td>\n",
       "      <td>2019-05-03</td>\n",
       "      <td>2019-05-04 06:31:57.735</td>\n",
       "      <td>11.0</td>\n",
       "      <td>product:business:::</td>\n",
       "      <td>#</td>\n",
       "      <td>0.0</td>\n",
       "      <td>Mobile</td>\n",
       "      <td>ANDROID</td>\n",
       "      <td>ANDROID BROWSER</td>\n",
       "      <td>16</td>\n",
       "    </tr>\n",
       "  </tbody>\n",
       "</table>\n",
       "<p>76936 rows × 13 columns</p>\n",
       "</div>"
      ],
      "text/plain": [
       "                                   visitor_id  \\\n",
       "0        4720794fd17200#2d16c0cfce0fff7206372   \n",
       "1        4720794fd17200#2d16c0cfce0fff7206372   \n",
       "2        4720794fd17200#2d16c0cfce0fff7206372   \n",
       "3        4720794fd17200#2d16c0cfce0fff7206372   \n",
       "4        4720794fd17200#2d16c0cfce0fff7206372   \n",
       "...                                       ...   \n",
       "76931    72dbf51ed17200#d049b3d7e4bfd95727261   \n",
       "76932  72dbfeef017200#d006272601cffd723e72672   \n",
       "76933  72dc29b77217200#d0075cde7292fd727271#3   \n",
       "76934   72dc2b03517200#d0472b129343fd72472fe3   \n",
       "76935     72dc493cc17200#d00596fb0d1fd723c#3#   \n",
       "\n",
       "                                  Session_IDs Versions       Date  \\\n",
       "0      65614647217200#772726df65fe72ff0f72674       T2 2019-04-26   \n",
       "1      65614647217200#772726df65fe72ff0f72674       T2 2019-04-26   \n",
       "2      65614647217200#772726df65fe72ff0f72674       T2 2019-04-26   \n",
       "3      65614647217200#772726df65fe72ff0f72674       T2 2019-04-26   \n",
       "4      65614647217200#772726df65fe72ff0f72674       T2 2019-04-26   \n",
       "...                                       ...      ...        ...   \n",
       "76931    72dbf51ed17200#d049b3d7e4bfd95727260       T2 2019-05-03   \n",
       "76932   72dbfeef017200#d006272601cffd723e7267       T2 2019-05-03   \n",
       "76933  72dc29b77217200#d0075cde7292fd727271#2       T1 2019-05-03   \n",
       "76934   72dc2b03517200#d0472b129343fd72472fe2       T3 2019-05-03   \n",
       "76935     72dc493cc17200#d00596fb0d1fd723c#39       T1 2019-05-03   \n",
       "\n",
       "                      Date_TS  Event_Key            Page_Name  \\\n",
       "0     2019-04-26 11:07:54.577       33.0  product:business:::   \n",
       "1     2019-04-26 11:07:52.755       11.0  product:business:::   \n",
       "2     2019-04-26 10:21:28.027       33.0  product:business:::   \n",
       "3     2019-04-26 11:08:33.552       33.0  product:business:::   \n",
       "4     2019-04-26 11:08:12.789       33.0  product:business:::   \n",
       "...                       ...        ...                  ...   \n",
       "76931 2019-05-04 06:26:13.977       11.0  product:business:::   \n",
       "76932 2019-05-04 06:26:54.063       11.0  product:business:::   \n",
       "76933 2019-05-04 06:29:47.978       11.0  product:business:::   \n",
       "76934 2019-05-04 06:29:53.771       11.0  product:business:::   \n",
       "76935 2019-05-04 06:31:57.735       11.0  product:business:::   \n",
       "\n",
       "                                            Button_Names  reward   Device  \\\n",
       "0                           HeaderMainMenu-Link-Business     0.0  Desktop   \n",
       "1                           HeaderMainMenu-Link-Business     0.0  Desktop   \n",
       "2                             HeaderMainMenu0-Cta-Log In     0.0  Desktop   \n",
       "3                               HeaderMainMenu-Link-Help     0.0  Desktop   \n",
       "4      SMB grid greyCard-Tertiary-More about business...     0.0  Desktop   \n",
       "...                                                  ...     ...      ...   \n",
       "76931                                                  #     0.0   Mobile   \n",
       "76932                                                  #     0.0   Mobile   \n",
       "76933                                                  #     0.0   Mobile   \n",
       "76934                                                  #     0.0   Mobile   \n",
       "76935                                                  #     0.0   Mobile   \n",
       "\n",
       "      Operating system            browser  Batch  \n",
       "0              WINDOWS  INTERNET EXPLORER      1  \n",
       "1              WINDOWS  INTERNET EXPLORER      1  \n",
       "2              WINDOWS  INTERNET EXPLORER      1  \n",
       "3              WINDOWS  INTERNET EXPLORER      1  \n",
       "4              WINDOWS  INTERNET EXPLORER      1  \n",
       "...                ...                ...    ...  \n",
       "76931          ANDROID    ANDROID BROWSER     16  \n",
       "76932          ANDROID    ANDROID BROWSER     16  \n",
       "76933          ANDROID    ANDROID BROWSER     16  \n",
       "76934          ANDROID    ANDROID BROWSER     16  \n",
       "76935          ANDROID    ANDROID BROWSER     16  \n",
       "\n",
       "[76936 rows x 13 columns]"
      ]
     },
     "execution_count": 614,
     "metadata": {},
     "output_type": "execute_result"
    }
   ],
   "source": [
    "data"
   ]
  },
  {
   "cell_type": "markdown",
   "id": "4ff69218",
   "metadata": {},
   "source": [
    "# Mean of the grouped data will be the sum of both 1s and 0s divided by total count the result is same as counting the number of 1s and dividing by total count"
   ]
  },
  {
   "cell_type": "code",
   "execution_count": 615,
   "id": "797a3744",
   "metadata": {},
   "outputs": [
    {
     "data": {
      "text/plain": [
       "Versions\n",
       "Control    0.074320\n",
       "T1         0.078519\n",
       "T2         0.074330\n",
       "T3         0.072537\n",
       "Name: reward, dtype: float64"
      ]
     },
     "execution_count": 615,
     "metadata": {},
     "output_type": "execute_result"
    }
   ],
   "source": [
    "data.groupby('Versions')['reward'].mean()"
   ]
  },
  {
   "cell_type": "code",
   "execution_count": 623,
   "id": "1b7cbb9e",
   "metadata": {},
   "outputs": [
    {
     "data": {
      "text/plain": [
       "Text(0.5, 1.0, 'VERSION VS COUNT')"
      ]
     },
     "execution_count": 623,
     "metadata": {},
     "output_type": "execute_result"
    },
    {
     "data": {
      "image/png": "[encoded data removed]",
      "text/plain": [
       "<Figure size 409.875x360 with 1 Axes>"
      ]
     },
     "metadata": {},
     "output_type": "display_data"
    }
   ],
   "source": [
    "sns.catplot(x = 'Versions' , data = data, hue = 'reward', kind = 'count')\n",
    "plt.xlabel('VERSIONS')\n",
    "plt.ylabel('COUNT')\n",
    "plt.title('VERSION VS COUNT')"
   ]
  },
  {
   "cell_type": "markdown",
   "id": "369500c6",
   "metadata": {},
   "source": [
    "#  Q3 "
   ]
  },
  {
   "cell_type": "code",
   "execution_count": 436,
   "id": "dfea1bf4",
   "metadata": {},
   "outputs": [
    {
     "data": {
      "text/plain": [
       "<seaborn.axisgrid.FacetGrid at 0x1d619302b00>"
      ]
     },
     "execution_count": 436,
     "metadata": {},
     "output_type": "execute_result"
    },
    {
     "data": {
      "image/png": "[encoded data removed]",
      "text/plain": [
       "<Figure size 360x360 with 1 Axes>"
      ]
     },
     "metadata": {
      "needs_background": "light"
     },
     "output_type": "display_data"
    }
   ],
   "source": [
    "sns.catplot(x = 'Batch', kind = 'count', data = data)"
   ]
  },
  {
   "cell_type": "code",
   "execution_count": 498,
   "id": "e928d572",
   "metadata": {},
   "outputs": [
    {
     "data": {
      "text/plain": [
       "<seaborn.axisgrid.FacetGrid at 0x1d6225e8af0>"
      ]
     },
     "execution_count": 498,
     "metadata": {},
     "output_type": "execute_result"
    },
    {
     "data": {
      "image/png": "[encoded data removed]",
      "text/plain": [
       "<Figure size 360x360 with 1 Axes>"
      ]
     },
     "metadata": {
      "needs_background": "light"
     },
     "output_type": "display_data"
    }
   ],
   "source": [
    "sns.catplot(x = 'Batch', kind = 'count', data = df)"
   ]
  },
  {
   "cell_type": "code",
   "execution_count": 641,
   "id": "0049113e",
   "metadata": {},
   "outputs": [],
   "source": [
    "df = data.drop_duplicates(subset = 'visitor_id')"
   ]
  },
  {
   "cell_type": "markdown",
   "id": "7c7c0c3a",
   "metadata": {},
   "source": [
    "# Q3 SOLUTION\n"
   ]
  },
  {
   "cell_type": "code",
   "execution_count": 633,
   "id": "5d25e36b",
   "metadata": {},
   "outputs": [
    {
     "data": {
      "text/plain": [
       "Text(0.5, 1.0, 'UNIQUE VISITORS VS BATCH')"
      ]
     },
     "execution_count": 633,
     "metadata": {},
     "output_type": "execute_result"
    },
    {
     "data": {
      "image/png": "[encoded data removed]",
      "text/plain": [
       "<Figure size 864x504 with 1 Axes>"
      ]
     },
     "metadata": {},
     "output_type": "display_data"
    }
   ],
   "source": [
    "plt.figure(figsize=(12,7))\n",
    "df.groupby('Batch')['visitor_id'].count().plot(kind = 'line', linewidth = 4, color = 'blue')\n",
    "plt.xlabel('BATCH')\n",
    "plt.ylabel(\"UNIQUE VISITORS\")\n",
    "plt.title('UNIQUE VISITORS VS BATCH')"
   ]
  },
  {
   "cell_type": "markdown",
   "id": "75d57568",
   "metadata": {},
   "source": [
    "# Q4  What are the top 5 Button_Names which were clicked?\n",
    "Find the button_name which has the greatest number of Session _id with clicks. To find definition of Clicks refer to the data_dict sheet.\n",
    "I have not recieved any data_dict sheet\n",
    "hence i solving this question with certain assumptions"
   ]
  },
  {
   "cell_type": "code",
   "execution_count": 650,
   "id": "cf3e64f0",
   "metadata": {},
   "outputs": [
    {
     "data": {
      "text/plain": [
       "11.0    46921\n",
       "33.0    30015\n",
       "Name: Event_Key, dtype: int64"
      ]
     },
     "execution_count": 650,
     "metadata": {},
     "output_type": "execute_result"
    }
   ],
   "source": [
    "data['Event_Key'].value_counts()"
   ]
  },
  {
   "cell_type": "markdown",
   "id": "7362399e",
   "metadata": {},
   "source": [
    "Assuming event key 11 as a click\n"
   ]
  },
  {
   "cell_type": "code",
   "execution_count": 661,
   "id": "04980f4a",
   "metadata": {},
   "outputs": [
    {
     "data": {
      "text/plain": [
       "Button_Names\n",
       "1.0                           1\n",
       "3.0                           2\n",
       "5.0                           1\n",
       "#                         28357\n",
       "#Pro_VT_fixed-fees            1\n",
       "                          ...  \n",
       "vx_text-body-md_medium        1\n",
       "wallet                        1\n",
       "yesbtn                        2\n",
       "zettle-subnav-link            1\n",
       "Şifreyi göster                1\n",
       "Name: Session_IDs, Length: 498, dtype: int64"
      ]
     },
     "execution_count": 661,
     "metadata": {},
     "output_type": "execute_result"
    }
   ],
   "source": [
    "data[data['Event_Key'] == 11].groupby('Button_Names')['Session_IDs'].count()\n"
   ]
  },
  {
   "cell_type": "markdown",
   "id": "b65ddea1",
   "metadata": {},
   "source": [
    "lot of # , i guess the values of # must  correspond to the data in the rows above it, hence filling these # "
   ]
  },
  {
   "cell_type": "code",
   "execution_count": 671,
   "id": "2b152767",
   "metadata": {},
   "outputs": [
    {
     "data": {
      "text/html": [
       "<div>\n",
       "<style scoped>\n",
       "    .dataframe tbody tr th:only-of-type {\n",
       "        vertical-align: middle;\n",
       "    }\n",
       "\n",
       "    .dataframe tbody tr th {\n",
       "        vertical-align: top;\n",
       "    }\n",
       "\n",
       "    .dataframe thead th {\n",
       "        text-align: right;\n",
       "    }\n",
       "</style>\n",
       "<table border=\"1\" class=\"dataframe\">\n",
       "  <thead>\n",
       "    <tr style=\"text-align: right;\">\n",
       "      <th></th>\n",
       "      <th>visitor_id</th>\n",
       "      <th>Session_IDs</th>\n",
       "      <th>Versions</th>\n",
       "      <th>Date</th>\n",
       "      <th>Date_TS</th>\n",
       "      <th>Event_Key</th>\n",
       "      <th>Page_Name</th>\n",
       "      <th>Button_Names</th>\n",
       "      <th>reward</th>\n",
       "      <th>Device</th>\n",
       "      <th>Operating system</th>\n",
       "      <th>browser</th>\n",
       "      <th>Batch</th>\n",
       "    </tr>\n",
       "  </thead>\n",
       "  <tbody>\n",
       "    <tr>\n",
       "      <th>0</th>\n",
       "      <td>4720794fd17200#2d16c0cfce0fff7206372</td>\n",
       "      <td>65614647217200#772726df65fe72ff0f72674</td>\n",
       "      <td>T2</td>\n",
       "      <td>2019-04-26</td>\n",
       "      <td>2019-04-26 11:07:54.577</td>\n",
       "      <td>33.0</td>\n",
       "      <td>product:business:::</td>\n",
       "      <td>HeaderMainMenu-Link-Business</td>\n",
       "      <td>0.0</td>\n",
       "      <td>Desktop</td>\n",
       "      <td>WINDOWS</td>\n",
       "      <td>INTERNET EXPLORER</td>\n",
       "      <td>1</td>\n",
       "    </tr>\n",
       "    <tr>\n",
       "      <th>1</th>\n",
       "      <td>4720794fd17200#2d16c0cfce0fff7206372</td>\n",
       "      <td>65614647217200#772726df65fe72ff0f72674</td>\n",
       "      <td>T2</td>\n",
       "      <td>2019-04-26</td>\n",
       "      <td>2019-04-26 11:07:52.755</td>\n",
       "      <td>11.0</td>\n",
       "      <td>product:business:::</td>\n",
       "      <td>HeaderMainMenu-Link-Business</td>\n",
       "      <td>0.0</td>\n",
       "      <td>Desktop</td>\n",
       "      <td>WINDOWS</td>\n",
       "      <td>INTERNET EXPLORER</td>\n",
       "      <td>1</td>\n",
       "    </tr>\n",
       "    <tr>\n",
       "      <th>2</th>\n",
       "      <td>4720794fd17200#2d16c0cfce0fff7206372</td>\n",
       "      <td>65614647217200#772726df65fe72ff0f72674</td>\n",
       "      <td>T2</td>\n",
       "      <td>2019-04-26</td>\n",
       "      <td>2019-04-26 10:21:28.027</td>\n",
       "      <td>33.0</td>\n",
       "      <td>product:business:::</td>\n",
       "      <td>HeaderMainMenu0-Cta-Log In</td>\n",
       "      <td>0.0</td>\n",
       "      <td>Desktop</td>\n",
       "      <td>WINDOWS</td>\n",
       "      <td>INTERNET EXPLORER</td>\n",
       "      <td>1</td>\n",
       "    </tr>\n",
       "    <tr>\n",
       "      <th>3</th>\n",
       "      <td>4720794fd17200#2d16c0cfce0fff7206372</td>\n",
       "      <td>65614647217200#772726df65fe72ff0f72674</td>\n",
       "      <td>T2</td>\n",
       "      <td>2019-04-26</td>\n",
       "      <td>2019-04-26 11:08:33.552</td>\n",
       "      <td>33.0</td>\n",
       "      <td>product:business:::</td>\n",
       "      <td>HeaderMainMenu-Link-Help</td>\n",
       "      <td>0.0</td>\n",
       "      <td>Desktop</td>\n",
       "      <td>WINDOWS</td>\n",
       "      <td>INTERNET EXPLORER</td>\n",
       "      <td>1</td>\n",
       "    </tr>\n",
       "    <tr>\n",
       "      <th>4</th>\n",
       "      <td>4720794fd17200#2d16c0cfce0fff7206372</td>\n",
       "      <td>65614647217200#772726df65fe72ff0f72674</td>\n",
       "      <td>T2</td>\n",
       "      <td>2019-04-26</td>\n",
       "      <td>2019-04-26 11:08:12.789</td>\n",
       "      <td>33.0</td>\n",
       "      <td>product:business:::</td>\n",
       "      <td>SMB grid greyCard-Tertiary-More about business...</td>\n",
       "      <td>0.0</td>\n",
       "      <td>Desktop</td>\n",
       "      <td>WINDOWS</td>\n",
       "      <td>INTERNET EXPLORER</td>\n",
       "      <td>1</td>\n",
       "    </tr>\n",
       "    <tr>\n",
       "      <th>...</th>\n",
       "      <td>...</td>\n",
       "      <td>...</td>\n",
       "      <td>...</td>\n",
       "      <td>...</td>\n",
       "      <td>...</td>\n",
       "      <td>...</td>\n",
       "      <td>...</td>\n",
       "      <td>...</td>\n",
       "      <td>...</td>\n",
       "      <td>...</td>\n",
       "      <td>...</td>\n",
       "      <td>...</td>\n",
       "      <td>...</td>\n",
       "    </tr>\n",
       "    <tr>\n",
       "      <th>76931</th>\n",
       "      <td>72dbf51ed17200#d049b3d7e4bfd95727261</td>\n",
       "      <td>72dbf51ed17200#d049b3d7e4bfd95727260</td>\n",
       "      <td>T2</td>\n",
       "      <td>2019-05-03</td>\n",
       "      <td>2019-05-04 06:26:13.977</td>\n",
       "      <td>11.0</td>\n",
       "      <td>product:business:::</td>\n",
       "      <td>acceptAllButton</td>\n",
       "      <td>0.0</td>\n",
       "      <td>Mobile</td>\n",
       "      <td>ANDROID</td>\n",
       "      <td>ANDROID BROWSER</td>\n",
       "      <td>16</td>\n",
       "    </tr>\n",
       "    <tr>\n",
       "      <th>76932</th>\n",
       "      <td>72dbfeef017200#d006272601cffd723e72672</td>\n",
       "      <td>72dbfeef017200#d006272601cffd723e7267</td>\n",
       "      <td>T2</td>\n",
       "      <td>2019-05-03</td>\n",
       "      <td>2019-05-04 06:26:54.063</td>\n",
       "      <td>11.0</td>\n",
       "      <td>product:business:::</td>\n",
       "      <td>acceptAllButton</td>\n",
       "      <td>0.0</td>\n",
       "      <td>Mobile</td>\n",
       "      <td>ANDROID</td>\n",
       "      <td>ANDROID BROWSER</td>\n",
       "      <td>16</td>\n",
       "    </tr>\n",
       "    <tr>\n",
       "      <th>76933</th>\n",
       "      <td>72dc29b77217200#d0075cde7292fd727271#3</td>\n",
       "      <td>72dc29b77217200#d0075cde7292fd727271#2</td>\n",
       "      <td>T1</td>\n",
       "      <td>2019-05-03</td>\n",
       "      <td>2019-05-04 06:29:47.978</td>\n",
       "      <td>11.0</td>\n",
       "      <td>product:business:::</td>\n",
       "      <td>acceptAllButton</td>\n",
       "      <td>0.0</td>\n",
       "      <td>Mobile</td>\n",
       "      <td>ANDROID</td>\n",
       "      <td>ANDROID BROWSER</td>\n",
       "      <td>16</td>\n",
       "    </tr>\n",
       "    <tr>\n",
       "      <th>76934</th>\n",
       "      <td>72dc2b03517200#d0472b129343fd72472fe3</td>\n",
       "      <td>72dc2b03517200#d0472b129343fd72472fe2</td>\n",
       "      <td>T3</td>\n",
       "      <td>2019-05-03</td>\n",
       "      <td>2019-05-04 06:29:53.771</td>\n",
       "      <td>11.0</td>\n",
       "      <td>product:business:::</td>\n",
       "      <td>acceptAllButton</td>\n",
       "      <td>0.0</td>\n",
       "      <td>Mobile</td>\n",
       "      <td>ANDROID</td>\n",
       "      <td>ANDROID BROWSER</td>\n",
       "      <td>16</td>\n",
       "    </tr>\n",
       "    <tr>\n",
       "      <th>76935</th>\n",
       "      <td>72dc493cc17200#d00596fb0d1fd723c#3#</td>\n",
       "      <td>72dc493cc17200#d00596fb0d1fd723c#39</td>\n",
       "      <td>T1</td>\n",
       "      <td>2019-05-03</td>\n",
       "      <td>2019-05-04 06:31:57.735</td>\n",
       "      <td>11.0</td>\n",
       "      <td>product:business:::</td>\n",
       "      <td>acceptAllButton</td>\n",
       "      <td>0.0</td>\n",
       "      <td>Mobile</td>\n",
       "      <td>ANDROID</td>\n",
       "      <td>ANDROID BROWSER</td>\n",
       "      <td>16</td>\n",
       "    </tr>\n",
       "  </tbody>\n",
       "</table>\n",
       "<p>76936 rows × 13 columns</p>\n",
       "</div>"
      ],
      "text/plain": [
       "                                   visitor_id  \\\n",
       "0        4720794fd17200#2d16c0cfce0fff7206372   \n",
       "1        4720794fd17200#2d16c0cfce0fff7206372   \n",
       "2        4720794fd17200#2d16c0cfce0fff7206372   \n",
       "3        4720794fd17200#2d16c0cfce0fff7206372   \n",
       "4        4720794fd17200#2d16c0cfce0fff7206372   \n",
       "...                                       ...   \n",
       "76931    72dbf51ed17200#d049b3d7e4bfd95727261   \n",
       "76932  72dbfeef017200#d006272601cffd723e72672   \n",
       "76933  72dc29b77217200#d0075cde7292fd727271#3   \n",
       "76934   72dc2b03517200#d0472b129343fd72472fe3   \n",
       "76935     72dc493cc17200#d00596fb0d1fd723c#3#   \n",
       "\n",
       "                                  Session_IDs Versions       Date  \\\n",
       "0      65614647217200#772726df65fe72ff0f72674       T2 2019-04-26   \n",
       "1      65614647217200#772726df65fe72ff0f72674       T2 2019-04-26   \n",
       "2      65614647217200#772726df65fe72ff0f72674       T2 2019-04-26   \n",
       "3      65614647217200#772726df65fe72ff0f72674       T2 2019-04-26   \n",
       "4      65614647217200#772726df65fe72ff0f72674       T2 2019-04-26   \n",
       "...                                       ...      ...        ...   \n",
       "76931    72dbf51ed17200#d049b3d7e4bfd95727260       T2 2019-05-03   \n",
       "76932   72dbfeef017200#d006272601cffd723e7267       T2 2019-05-03   \n",
       "76933  72dc29b77217200#d0075cde7292fd727271#2       T1 2019-05-03   \n",
       "76934   72dc2b03517200#d0472b129343fd72472fe2       T3 2019-05-03   \n",
       "76935     72dc493cc17200#d00596fb0d1fd723c#39       T1 2019-05-03   \n",
       "\n",
       "                      Date_TS  Event_Key            Page_Name  \\\n",
       "0     2019-04-26 11:07:54.577       33.0  product:business:::   \n",
       "1     2019-04-26 11:07:52.755       11.0  product:business:::   \n",
       "2     2019-04-26 10:21:28.027       33.0  product:business:::   \n",
       "3     2019-04-26 11:08:33.552       33.0  product:business:::   \n",
       "4     2019-04-26 11:08:12.789       33.0  product:business:::   \n",
       "...                       ...        ...                  ...   \n",
       "76931 2019-05-04 06:26:13.977       11.0  product:business:::   \n",
       "76932 2019-05-04 06:26:54.063       11.0  product:business:::   \n",
       "76933 2019-05-04 06:29:47.978       11.0  product:business:::   \n",
       "76934 2019-05-04 06:29:53.771       11.0  product:business:::   \n",
       "76935 2019-05-04 06:31:57.735       11.0  product:business:::   \n",
       "\n",
       "                                            Button_Names  reward   Device  \\\n",
       "0                           HeaderMainMenu-Link-Business     0.0  Desktop   \n",
       "1                           HeaderMainMenu-Link-Business     0.0  Desktop   \n",
       "2                             HeaderMainMenu0-Cta-Log In     0.0  Desktop   \n",
       "3                               HeaderMainMenu-Link-Help     0.0  Desktop   \n",
       "4      SMB grid greyCard-Tertiary-More about business...     0.0  Desktop   \n",
       "...                                                  ...     ...      ...   \n",
       "76931                                    acceptAllButton     0.0   Mobile   \n",
       "76932                                    acceptAllButton     0.0   Mobile   \n",
       "76933                                    acceptAllButton     0.0   Mobile   \n",
       "76934                                    acceptAllButton     0.0   Mobile   \n",
       "76935                                    acceptAllButton     0.0   Mobile   \n",
       "\n",
       "      Operating system            browser  Batch  \n",
       "0              WINDOWS  INTERNET EXPLORER      1  \n",
       "1              WINDOWS  INTERNET EXPLORER      1  \n",
       "2              WINDOWS  INTERNET EXPLORER      1  \n",
       "3              WINDOWS  INTERNET EXPLORER      1  \n",
       "4              WINDOWS  INTERNET EXPLORER      1  \n",
       "...                ...                ...    ...  \n",
       "76931          ANDROID    ANDROID BROWSER     16  \n",
       "76932          ANDROID    ANDROID BROWSER     16  \n",
       "76933          ANDROID    ANDROID BROWSER     16  \n",
       "76934          ANDROID    ANDROID BROWSER     16  \n",
       "76935          ANDROID    ANDROID BROWSER     16  \n",
       "\n",
       "[76936 rows x 13 columns]"
      ]
     },
     "execution_count": 671,
     "metadata": {},
     "output_type": "execute_result"
    }
   ],
   "source": [
    "import numpy as np\n",
    "data['Button_Names'] = data['Button_Names'].replace('#', np.NaN)\n",
    "data['Button_Names'] = data['Button_Names'].fillna(method='ffill')\n"
   ]
  },
  {
   "cell_type": "code",
   "execution_count": 673,
   "id": "dea4718b",
   "metadata": {},
   "outputs": [
    {
     "data": {
      "text/plain": [
       "Button_Names\n",
       "sales-invitation-docked-start-chat                 7444\n",
       "HeaderMainMenu0-Cta-Log In                         6023\n",
       "CTA                                                5985\n",
       "Hero-Primary-Sign Up                               4299\n",
       "https://www.fyttlyf.com/us/webapps/mpp/merchant    3407\n",
       "                                                   ... \n",
       "closing-help                                          1\n",
       "closeCart                                             1\n",
       "close-btn                                             1\n",
       "close                                                 1\n",
       "Şifreyi göster                                        1\n",
       "Name: Session_IDs, Length: 569, dtype: int64"
      ]
     },
     "execution_count": 673,
     "metadata": {},
     "output_type": "execute_result"
    }
   ],
   "source": [
    "data[data['Event_Key'] == 11].groupby('Button_Names')['Session_IDs'].count().sort_values(ascending = False)\n"
   ]
  },
  {
   "cell_type": "markdown",
   "id": "0e5ffcd8",
   "metadata": {},
   "source": [
    "visualization"
   ]
  },
  {
   "cell_type": "code",
   "execution_count": 677,
   "id": "311140de",
   "metadata": {},
   "outputs": [
    {
     "data": {
      "text/plain": [
       "Text(0.5, 0, 'BUTTON NAMES')"
      ]
     },
     "execution_count": 677,
     "metadata": {},
     "output_type": "execute_result"
    },
    {
     "data": {
      "image/png": "[encoded data removed]",
      "text/plain": [
       "<Figure size 576x396 with 1 Axes>"
      ]
     },
     "metadata": {},
     "output_type": "display_data"
    }
   ],
   "source": [
    "data[data['Event_Key'] == 11].groupby('Button_Names')['Session_IDs'].count().sort_values(ascending = False)[0:5].plot(kind = 'bar')\n",
    "plt.xticks(rotation = 45)\n",
    "plt.title(\"TOP 5 BUTTONS CLICKED(EVENT KEY = 11)\")\n",
    "plt.ylabel('CLICKS')\n",
    "plt.xlabel('BUTTON NAMES')"
   ]
  },
  {
   "cell_type": "code",
   "execution_count": 679,
   "id": "10761e66",
   "metadata": {},
   "outputs": [
    {
     "data": {
      "text/plain": [
       "Text(0.5, 0, 'BUTTON NAMES')"
      ]
     },
     "execution_count": 679,
     "metadata": {},
     "output_type": "execute_result"
    },
    {
     "data": {
      "image/png": "[encoded data removed]",
      "text/plain": [
       "<Figure size 576x396 with 1 Axes>"
      ]
     },
     "metadata": {},
     "output_type": "display_data"
    }
   ],
   "source": [
    "data[data['Event_Key'] == 33].groupby('Button_Names')['Session_IDs'].count().sort_values(ascending = False)[0:5].plot(kind = 'bar')\n",
    "plt.xticks(rotation = 45)\n",
    "plt.title(\"TOP 5 BUTTONS CLICKED(EVENT KEY = 33)\")\n",
    "plt.ylabel('CLICKS')\n",
    "plt.xlabel('BUTTON NAMES')"
   ]
  },
  {
   "cell_type": "markdown",
   "id": "6464bbb7",
   "metadata": {},
   "source": [
    "#  Q5 as we can see from before t1 has the highest reward rate"
   ]
  },
  {
   "cell_type": "code",
   "execution_count": 635,
   "id": "5e1e2c81",
   "metadata": {
    "scrolled": false
   },
   "outputs": [
    {
     "data": {
      "image/png": "[encoded data removed]",
      "text/plain": [
       "<Figure size 720x432 with 1 Axes>"
      ]
     },
     "metadata": {},
     "output_type": "display_data"
    },
    {
     "data": {
      "image/png": "[encoded data removed]",
      "text/plain": [
       "<Figure size 720x432 with 1 Axes>"
      ]
     },
     "metadata": {},
     "output_type": "display_data"
    },
    {
     "data": {
      "image/png": "[encoded data removed]",
      "text/plain": [
       "<Figure size 720x432 with 1 Axes>"
      ]
     },
     "metadata": {},
     "output_type": "display_data"
    },
    {
     "data": {
      "image/png": "[encoded data removed]",
      "text/plain": [
       "<Figure size 720x432 with 1 Axes>"
      ]
     },
     "metadata": {},
     "output_type": "display_data"
    }
   ],
   "source": [
    "for i in ['Desktop', 'Mobile', 'Tablet', 'Others']:\n",
    "    plt.figure(figsize=(10,6))\n",
    "    data[(data['Versions'] == 'T1')&(data['Device'] == i)].groupby('browser')['reward'].mean().plot(kind = 'bar')\n",
    "    plt.title(f'The Reward score of {i}')\n",
    "    plt.ylabel('SCORE')\n",
    "    plt.xlabel('BROWSER')\n",
    "    plt.xticks(rotation = 45)\n",
    "    plt.show()"
   ]
  },
  {
   "cell_type": "code",
   "execution_count": 640,
   "id": "e9523661",
   "metadata": {},
   "outputs": [
    {
     "data": {
      "text/plain": [
       "Text(0.5, 1.0, 'REWARD SCORE ACROSS DEVICES AND BROWSER')"
      ]
     },
     "execution_count": 640,
     "metadata": {},
     "output_type": "execute_result"
    },
    {
     "data": {
      "image/png": "[encoded data removed]",
      "text/plain": [
       "<Figure size 1080x504 with 1 Axes>"
      ]
     },
     "metadata": {},
     "output_type": "display_data"
    }
   ],
   "source": [
    "plt.figure(figsize=(15,7))\n",
    "data[data['Versions'] == 'T1'].groupby(['Device','browser'])['reward'].mean().plot(kind = 'bar')\n",
    "plt.xticks(rotation = 90)\n",
    "plt.ylabel('REWARD SCORE')\n",
    "plt.title('REWARD SCORE ACROSS DEVICES AND BROWSER')"
   ]
  },
  {
   "cell_type": "code",
   "execution_count": null,
   "id": "33e9eca9",
   "metadata": {},
   "outputs": [],
   "source": []
  },
  {
   "cell_type": "code",
   "execution_count": null,
   "id": "ee9fe75c",
   "metadata": {},
   "outputs": [],
   "source": []
  },
  {
   "cell_type": "code",
   "execution_count": null,
   "id": "f3984a6e",
   "metadata": {},
   "outputs": [],
   "source": []
  },
  {
   "cell_type": "code",
   "execution_count": null,
   "id": "9aadd8b2",
   "metadata": {},
   "outputs": [],
   "source": []
  },
  {
   "cell_type": "code",
   "execution_count": null,
   "id": "3c46d579",
   "metadata": {},
   "outputs": [],
   "source": []
  }
 ],
 "metadata": {
  "kernelspec": {
   "display_name": "Python 3 (ipykernel)",
   "language": "python",
   "name": "python3"
  },
  "language_info": {
   "codemirror_mode": {
    "name": "ipython",
    "version": 3
   },
   "file_extension": ".py",
   "mimetype": "text/x-python",
   "name": "python",
   "nbconvert_exporter": "python",
   "pygments_lexer": "ipython3",
   "version": "3.10.2"
  }
 },
 "nbformat": 4,
 "nbformat_minor": 5
}
